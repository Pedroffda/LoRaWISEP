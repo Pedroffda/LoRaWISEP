{
    "cells": [
        {
            "cell_type": "code",
            "execution_count": 3,
            "metadata": {},
            "outputs": [],
            "source": [
                "import pandas as pd\n",
                "import numpy as np\n",
                "from sklearn.cluster import KMeans\n",
                "from yellowbrick.cluster import KElbowVisualizer\n",
                "import csv\n",
                "import sys"
            ]
        },
        {
            "cell_type": "code",
            "execution_count": 4,
            "metadata": {},
            "outputs": [
                {
                    "ename": "ValueError",
                    "evalue": "invalid literal for int() with base 10: '--f=/home/pedro/.local/share/jupyter/runtime/kernel-v2-30314IcWCsB4xe629.json'",
                    "output_type": "error",
                    "traceback": [
                        "\u001b[0;31m---------------------------------------------------------------------------\u001b[0m",
                        "\u001b[0;31mValueError\u001b[0m                                Traceback (most recent call last)",
                        "Cell \u001b[0;32mIn[4], line 37\u001b[0m\n\u001b[1;32m     34\u001b[0m     \u001b[38;5;66;03m# print(f'O arquivo contém {num_dispositivos} dispositivos.')\u001b[39;00m\n\u001b[1;32m     36\u001b[0m \u001b[38;5;28;01mif\u001b[39;00m \u001b[38;5;18m__name__\u001b[39m \u001b[38;5;241m==\u001b[39m \u001b[38;5;124m\"\u001b[39m\u001b[38;5;124m__main__\u001b[39m\u001b[38;5;124m\"\u001b[39m:\n\u001b[0;32m---> 37\u001b[0m     \u001b[43mmain\u001b[49m\u001b[43m(\u001b[49m\u001b[43m)\u001b[49m\n",
                        "Cell \u001b[0;32mIn[4], line 21\u001b[0m, in \u001b[0;36mmain\u001b[0;34m()\u001b[0m\n\u001b[1;32m     16\u001b[0m np\u001b[38;5;241m.\u001b[39mrandom\u001b[38;5;241m.\u001b[39mseed(\u001b[38;5;241m42\u001b[39m)\n\u001b[1;32m     17\u001b[0m \u001b[38;5;66;03m# min_x, max_x = 0.0, 10000\u001b[39;00m\n\u001b[1;32m     18\u001b[0m \u001b[38;5;66;03m# min_y, max_y = 0.0, 10000\u001b[39;00m\n\u001b[1;32m     19\u001b[0m \u001b[38;5;66;03m# n_dispositivos = 1000\u001b[39;00m\n\u001b[0;32m---> 21\u001b[0m n_dispositivos \u001b[38;5;241m=\u001b[39m \u001b[38;5;28;43mint\u001b[39;49m\u001b[43m(\u001b[49m\u001b[43msys\u001b[49m\u001b[38;5;241;43m.\u001b[39;49m\u001b[43margv\u001b[49m\u001b[43m[\u001b[49m\u001b[38;5;241;43m1\u001b[39;49m\u001b[43m]\u001b[49m\u001b[43m)\u001b[49m\n\u001b[1;32m     22\u001b[0m \u001b[38;5;28mprint\u001b[39m(\u001b[38;5;124mf\u001b[39m\u001b[38;5;124m'\u001b[39m\u001b[38;5;124mGerando \u001b[39m\u001b[38;5;132;01m{\u001b[39;00mn_dispositivos\u001b[38;5;132;01m}\u001b[39;00m\u001b[38;5;124m dispositivos...\u001b[39m\u001b[38;5;124m'\u001b[39m)\n\u001b[1;32m     23\u001b[0m min_x, max_x \u001b[38;5;241m=\u001b[39m \u001b[38;5;241m0.0\u001b[39m, \u001b[38;5;28mfloat\u001b[39m(sys\u001b[38;5;241m.\u001b[39margv[\u001b[38;5;241m2\u001b[39m]) \u001b[38;5;241m*\u001b[39m \u001b[38;5;241m1000\u001b[39m\n",
                        "\u001b[0;31mValueError\u001b[0m: invalid literal for int() with base 10: '--f=/home/pedro/.local/share/jupyter/runtime/kernel-v2-30314IcWCsB4xe629.json'"
                    ]
                }
            ],
            "source": [
                "# python3 gerar_dispositivos_e_gateways.py 10 10 10\n",
                "\n",
                "def gerar_coordenadas_aleatorias(n, min_x, max_x, min_y, max_y):\n",
                "    random_coords = []\n",
                "    for _ in range(n):\n",
                "        x = np.random.uniform(low=min_x, high=max_x)\n",
                "        y = np.random.uniform(low=min_y, high=max_y)\n",
                "        random_coords.append([x, y])\n",
                "    return random_coords\n",
                "\n",
                "def salvar_coordenadas_em_csv(coordenadas, nome_arquivo):\n",
                "    df = pd.DataFrame(coordenadas, columns=['x', 'y'])\n",
                "    df.to_csv(nome_arquivo, header=False, index=False)\n",
                "\n",
                "def main():\n",
                "    np.random.seed(42)\n",
                "    # min_x, max_x = 0.0, 10000\n",
                "    # min_y, max_y = 0.0, 10000\n",
                "    # n_dispositivos = 1000\n",
                "\n",
                "    n_dispositivos = int(sys.argv[1])\n",
                "    print(f'Gerando {n_dispositivos} dispositivos...')\n",
                "    min_x, max_x = 0.0, float(sys.argv[2]) * 1000\n",
                "    print(f'Gerando dispositivos com coordenadas x entre {min_x} e {max_x}...')\n",
                "    min_y, max_y = 0.0, float(sys.argv[3]) * 1000\n",
                "    print(f'Gerando dispositivos com coordenadas y entre {min_y} e {max_y}...')\n",
                "\n",
                "\n",
                "    coordenadas_dispositivos = gerar_coordenadas_aleatorias(n_dispositivos, min_x, max_x, min_y, max_y)\n",
                "    salvar_coordenadas_em_csv(coordenadas_dispositivos, 'input/endevices.csv')\n",
                "\n",
                "    df = pd.DataFrame(coordenadas_dispositivos, columns=['x', 'y'])\n",
                "    num_dispositivos = len(df.index)\n",
                "    # print(f'O arquivo contém {num_dispositivos} dispositivos.')\n",
                "\n",
                "if __name__ == \"__main__\":\n",
                "    main()"
            ]
        }
    ],
    "metadata": {
        "kernelspec": {
            "display_name": "Python 3",
            "language": "python",
            "name": "python3"
        },
        "language_info": {
            "codemirror_mode": {
                "name": "ipython",
                "version": 3
            },
            "file_extension": ".py",
            "mimetype": "text/x-python",
            "name": "python",
            "nbconvert_exporter": "python",
            "pygments_lexer": "ipython3",
            "version": "3.10.12"
        }
    },
    "nbformat": 4,
    "nbformat_minor": 2
}
